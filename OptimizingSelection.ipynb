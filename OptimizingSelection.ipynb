{
 "cells": [
  {
   "cell_type": "markdown",
   "metadata": {},
   "source": [
    "# Libraries \n"
   ]
  },
  {
   "cell_type": "code",
   "execution_count": 12,
   "metadata": {
    "scrolled": false
   },
   "outputs": [],
   "source": [
    "\n",
    "from __future__ import print_function\n",
    "from ortools.graph import pywrapgraph"
   ]
  },
  {
   "cell_type": "markdown",
   "metadata": {},
   "source": [
    "# Constants "
   ]
  },
  {
   "cell_type": "code",
   "execution_count": 13,
   "metadata": {},
   "outputs": [],
   "source": [
    "MAX_MARK = 3\n",
    "NUMBER_ANGELS = 8\n",
    "NUMBER_BABIES = 16\n",
    "CAPACITY_1 = 1\n",
    "CAPACITY_2 = 2\n",
    "COST_0 = 0\n",
    "COST_LOAD = 20\n",
    "ID_0 = 0\n",
    "SUPPLIE_0 = 0\n",
    "MULTIPLIER_MENTORS_MARK = 2\n",
    "MULTIPLIER_BABIES_MARK = 3"
   ]
  },
  {
   "cell_type": "markdown",
   "metadata": {},
   "source": [
    "# Create Graph"
   ]
  },
  {
   "cell_type": "markdown",
   "metadata": {},
   "source": [
    "#### Edge ends "
   ]
  },
  {
   "cell_type": "code",
   "execution_count": 14,
   "metadata": {},
   "outputs": [],
   "source": [
    "def create_start_nodes(number_angels, number_baybes):\n",
    "    nodes = []\n",
    "    for i in range (number_angels):\n",
    "        nodes.append(ID_0)\n",
    "    for i in range (1,number_angels+1):\n",
    "        for j in range (0, number_baybes):\n",
    "            nodes.append(i)\n",
    "    for i in range (number_angels+1,number_angels*3+1):\n",
    "            nodes.append(i)\n",
    "    return nodes\n",
    "\n",
    "def create_end_nodes(number_angels, number_baybes):\n",
    "    nodes = []\n",
    "    for i in range(1,number_angels+1 ):\n",
    "        nodes.append(i)\n",
    "    for i in range (0,number_angels):\n",
    "        for j in range (number_angels+1, number_angels+number_baybes+1):\n",
    "            nodes.append(j)\n",
    "    for i in range (number_baybes):\n",
    "        nodes.append(number_angels+number_baybes+1)\n",
    "    return nodes\n"
   ]
  },
  {
   "cell_type": "markdown",
   "metadata": {},
   "source": [
    "#### Capacities "
   ]
  },
  {
   "cell_type": "code",
   "execution_count": 15,
   "metadata": {},
   "outputs": [],
   "source": [
    "def create_capacities(number_angels, number_baybes ):\n",
    "    nodes = []\n",
    "    for i in range (number_angels):\n",
    "        nodes.append(CAPACITY_2)\n",
    "    for i in range (number_angels*number_baybes+number_baybes):\n",
    "        nodes.append(CAPACITY_1)\n",
    "    return nodes\n"
   ]
  },
  {
   "cell_type": "markdown",
   "metadata": {},
   "source": [
    "#### Supplies "
   ]
  },
  {
   "cell_type": "code",
   "execution_count": 16,
   "metadata": {},
   "outputs": [],
   "source": [
    "def create_supplies(number_angels,number_baybes):\n",
    "    nodes = []\n",
    "    nodes.append(number_baybes)\n",
    "    for i in range (number_angels+number_baybes):\n",
    "        nodes.append(SUPPLIE_0)\n",
    "    nodes.append(-number_baybes)\n",
    "    return nodes"
   ]
  },
  {
   "cell_type": "markdown",
   "metadata": {},
   "source": [
    "#### Costs"
   ]
  },
  {
   "cell_type": "code",
   "execution_count": 17,
   "metadata": {},
   "outputs": [],
   "source": [
    "def create_costs( number_angels,number_baybes, angels_marks,beybes_marks):\n",
    "\n",
    "    nodes = []\n",
    "    for i in range (number_angels):\n",
    "        nodes.append(COST_0)\n",
    "    for i in range (number_angels*number_baybes):\n",
    "        if angels_marks[i] == 1 or beybes_marks[i]==1:\n",
    "            nodes.append(COST_LOAD)\n",
    "        else:\n",
    "            nodes.append(MULTIPLIER_MENTORS_MARK*(MAX_MARK-angels_marks[i])+MULTIPLIER_BABIES_MARK*(MAX_MARK-beybes_marks[i]))\n",
    "    for i in range ( number_baybes):\n",
    "        nodes.append(COST_0)\n",
    "    return nodes"
   ]
  },
  {
   "cell_type": "markdown",
   "metadata": {},
   "source": [
    "# Input "
   ]
  },
  {
   "cell_type": "code",
   "execution_count": 20,
   "metadata": {},
   "outputs": [],
   "source": [
    "number_mentors = 8\n",
    "number_babies = 16\n",
    "\n",
    "angels_marks = [2,3,2,4,3,2,1,3,3,5,3,5,2,5,3,5,\n",
    "                1,3,2,4,3,1,5,3,1,1,3,5,2,2,3,2,\n",
    "                5,4,5,4,3,5,4,5,5,5,3,5,5,5,3,5,\n",
    "                3,3,4,2,3,2,3,4,2,3,3,4,4,2,3,4,\n",
    "                3,1,4,4,3,1,4,3,1,4,3,5,5,1,3,5,\n",
    "                5,5,5,5,3,5,5,5,5,5,3,5,5,5,3,5,\n",
    "                4,4,5,5,3,1,3,2,2,2,3,4,5,2,3,2,\n",
    "                5,5,3,5,3,2,3,3,1,3,3,3,4,1,3,3]\n",
    "\n",
    "babies_marks = [5,3,5,3,4,5,5,5,\n",
    "                5,3,3,4,5,4,4,5,\n",
    "                4,5,4,4,4,3,5,4,\n",
    "                4,3,4,3,3,5,5,4,\n",
    "                3,3,3,3,3,3,3,3,\n",
    "                2,3,4,4,5,1,4,5,\n",
    "                4,3,5,4,4,5,4,2,\n",
    "                2,4,2,5,5,4,4,5,\n",
    "                5,4,5,3,4,5,4,3,\n",
    "                5,3,4,4,5,3,3,4,\n",
    "                3,3,3,3,3,3,3,3,\n",
    "                3,2,4,2,5,5,4,4,\n",
    "                5,3,4,3,5,5,5,4,\n",
    "                5,3,3,5,4,3,3,4,\n",
    "                5,3,3,3,3,3,3,3,\n",
    "                3,3,4,3,4,4,3,4]"
   ]
  },
  {
   "cell_type": "markdown",
   "metadata": {},
   "source": [
    "# Main"
   ]
  },
  {
   "cell_type": "code",
   "execution_count": 19,
   "metadata": {},
   "outputs": [
    {
     "name": "stdout",
     "output_type": "stream",
     "text": [
      "Mentor:  1  Baby:  8\n",
      "Mentor:  1  Baby:  9\n",
      "Mentor:  2  Baby:  7\n",
      "Mentor:  2  Baby:  15\n",
      "Mentor:  3  Baby:  10\n",
      "Mentor:  3  Baby:  16\n",
      "Mentor:  4  Baby:  3\n",
      "Mentor:  4  Baby:  6\n",
      "Mentor:  5  Baby:  11\n",
      "Mentor:  5  Baby:  13\n",
      "Mentor:  6  Baby:  4\n",
      "Mentor:  6  Baby:  14\n",
      "Mentor:  7  Baby:  5\n",
      "Mentor:  7  Baby:  12\n",
      "Mentor:  8  Baby:  1\n",
      "Mentor:  8  Baby:  2\n"
     ]
    }
   ],
   "source": [
    "start_nodes = create_start_nodes(number_mentors, number_babies)\n",
    "end_nodes   = create_end_nodes(number_mentors, number_babies)\n",
    "capacities  = create_capacities(number_mentors, number_babies)\n",
    "supplies = create_supplies(number_mentors, number_babies)\n",
    "unit_costs  = create_costs(number_mentors, number_babies, angels_marks, babies_marks)\n",
    "min_cost_flow = pywrapgraph.SimpleMinCostFlow()\n",
    "\n",
    "for i in range(0, len(start_nodes)):\n",
    "    min_cost_flow.AddArcWithCapacityAndUnitCost(start_nodes[i], end_nodes[i],capacities[i], unit_costs[i])\n",
    "\n",
    "for i in range(0, len(supplies)):\n",
    "    min_cost_flow.SetNodeSupply(i, supplies[i])\n",
    "\n",
    "if min_cost_flow.Solve() == min_cost_flow.OPTIMAL:\n",
    "    for i in range(min_cost_flow.NumArcs()):\n",
    "        if i >= number_mentors and i< number_mentors*number_babies+number_mentors and min_cost_flow.Flow(i)==1:\n",
    "            print(\"Mentor: \", min_cost_flow.Tail(i),\" Baby: \", min_cost_flow.Head(i) - number_mentors)\n",
    "else:\n",
    "    print('There was an issue with the min cost flow input.')\n",
    "\n",
    "\n",
    "\n",
    "\n"
   ]
  }
 ],
 "metadata": {
  "kernelspec": {
   "display_name": "Python 3",
   "language": "python",
   "name": "python3"
  },
  "language_info": {
   "codemirror_mode": {
    "name": "ipython",
    "version": 3
   },
   "file_extension": ".py",
   "mimetype": "text/x-python",
   "name": "python",
   "nbconvert_exporter": "python",
   "pygments_lexer": "ipython3",
   "version": "3.8.3"
  }
 },
 "nbformat": 4,
 "nbformat_minor": 4
}
